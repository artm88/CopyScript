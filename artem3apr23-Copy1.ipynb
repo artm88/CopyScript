{
 "cells": [
  {
   "cell_type": "code",
   "execution_count": 1,
   "id": "18f69ebe",
   "metadata": {},
   "outputs": [],
   "source": [
    "def copyOfFile (dir_1, dir_2): #function for copying files\n",
    "    listOfFile_1 = os.listdir(dir_1) #creating list of names of files from the source directory\n",
    "    \n",
    "    for i in range(len(listOfFile_1)):\n",
    "        listOfFile_2 = os.listdir(dir_2) #creating list of file's names from the destination directory\n",
    "        if catch(listOfFile_1[i],listOfFile_2,dir_1, dir_2)==True:\n",
    "            continue\n",
    "        \n",
    "        for j in range(len(listOfFile_2)):\n",
    "            if compareFile(listOfFile_1[i],listOfFile_2[j],dir_1, dir_2) == True and listOfFile_1[i]!=listOfFile_2[j]:\n",
    "                    os.rename (os.path.join (listOfFile_2[j]),os.path.join (listOfFile_1[i])) #renames files if their hashing functions are equal\n",
    "                                        \n",
    "    for i in range(len(listOfFile_1)):\n",
    "        for j in range(len(listOfFile_2)):\n",
    "            if compareFile(listOfFile_1[i],listOfFile_2[j],dir_1, dir_2) != True: \n",
    "                shutil.copy2(os.path.join (dir_1, listOfFile_1[i]), os.path.join(dir_2)) # copying files that are not in destination directory\n",
    "                \n",
    "def catch (file_1 , list_2 , dir_1, dir_2):\n",
    "    for j in range(len(list_2)):\n",
    "            if compareFile(file_1,list_2[j],dir_1, dir_2) == True and file_1==list_2[j]:\n",
    "                return True\n",
    "    \n",
    "                \n",
    "def compareFile (file_1,file_2,dir_1, dir_2): #function for comparing hashing functions of files\n",
    "    os.chdir(dir_1)\n",
    "    MD5_1 = hashlib.md5 (open(file_1,'rb').read()).hexdigest()\n",
    "    #print (os.getcwd())\n",
    "    #os.chdir(\"..\") # returnes up to main catalog directory\n",
    "    #os.chdir(os.pardir)    \n",
    "    os.chdir(dir_2)\n",
    "    #print (os.getcwd())\n",
    "    MD5_2 = hashlib.md5 (open(file_2,'rb').read()).hexdigest()\n",
    "    if MD5_1==MD5_2:\n",
    "        return True\n",
    "    else: return False\n",
    "                    \n",
    "def deleteFile (dir_1, dir_2):  #function for deleting files  \n",
    "    listOfFile_1 = os.listdir(dir_1)\n",
    "    listOfFile_2 = os.listdir(dir_2)\n",
    "    list_new = []\n",
    "    for i in range(len(listOfFile_2)):        \n",
    "            if searchFile(listOfFile_2[i],listOfFile_1)==False:            \n",
    "                list_new.append(listOfFile_2[i]) #creating a list that constists of file names that are doesn't exist in source directory               \n",
    "                \n",
    "    for i in range(len(list_new)):\n",
    "        os.remove(os.path.join(dir_2, list_new[i])) #deleting files\n",
    "    print (list_new)\n",
    "\n",
    "def searchFile (file, listDir): #function for searching files\n",
    "    if file not in listDir:             \n",
    "                return False\n",
    "\n",
    "def compareDir (dir_1, dir_2): #function for comparing hashing functions of files\n",
    "    listOfFile_1 = os.listdir(dir_1)\n",
    "    listOfFile_2 = os.listdir(dir_2)\n",
    "    for i in range(len(listOfFile_1)):\n",
    "            if compareFile(listOfFile_1[i],listOfFile_2[i],dir_1, dir_2) != True or listOfFile_1[i]!=listOfFile_2[i]:\n",
    "                return print('Directories are not equal') \n",
    "    return print('Directories are equal')  \n"
   ]
  },
  {
   "cell_type": "code",
   "execution_count": 2,
   "id": "473fa62f",
   "metadata": {},
   "outputs": [
    {
     "name": "stdout",
     "output_type": "stream",
     "text": [
      "please, enter source directory\n",
      "C:\\Users\\artem\\Documents\\artem\\dir_1\n",
      "please, enter destination directory\n",
      "C:\\Users\\artem\\Documents\\artem\\temp\\dir_2\n",
      "Directories are not equal\n",
      "['b.txt', 'b1.txt', 'neorig1_2.docx', 'neorig2_2.docx']\n",
      "Directories are equal\n"
     ]
    }
   ],
   "source": [
    "import os\n",
    "import shutil\n",
    "from pathlib import Path\n",
    "import hashlib\n",
    "\n",
    "#dir_1=r'C:\\Users\\artem\\Documents\\artem\\dir_1' #source directory\n",
    "#dir_2=r'C:\\Users\\artem\\Documents\\artem\\temp\\dir_2' #destination directory\n",
    "\n",
    "print('please, enter source directory')\n",
    "dir_1=input()\n",
    "print('please, enter destination directory')\n",
    "dir_2=input()\n",
    "compareDir(dir_1,dir_2)\n",
    "copyOfFile(dir_1,dir_2)\n",
    "deleteFile(dir_1,dir_2)\n",
    "compareDir(dir_1,dir_2)"
   ]
  },
  {
   "cell_type": "code",
   "execution_count": null,
   "id": "e1e40c61",
   "metadata": {},
   "outputs": [],
   "source": []
  },
  {
   "cell_type": "code",
   "execution_count": null,
   "id": "e74820ad",
   "metadata": {},
   "outputs": [],
   "source": []
  }
 ],
 "metadata": {
  "kernelspec": {
   "display_name": "Python 3",
   "language": "python",
   "name": "python3"
  },
  "language_info": {
   "codemirror_mode": {
    "name": "ipython",
    "version": 3
   },
   "file_extension": ".py",
   "mimetype": "text/x-python",
   "name": "python",
   "nbconvert_exporter": "python",
   "pygments_lexer": "ipython3",
   "version": "3.8.8"
  }
 },
 "nbformat": 4,
 "nbformat_minor": 5
}
